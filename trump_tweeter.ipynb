{
 "cells": [
  {
   "cell_type": "code",
   "execution_count": 1,
   "metadata": {},
   "outputs": [
    {
     "name": "stderr",
     "output_type": "stream",
     "text": [
      "Using TensorFlow backend.\n"
     ]
    }
   ],
   "source": [
    "import tensorflow as tf\n",
    "import pandas as pd\n",
    "import string\n",
    "import numpy as np\n",
    "from keras.utils import to_categorical\n",
    "tf.enable_eager_execution()\n"
   ]
  },
  {
   "cell_type": "code",
   "execution_count": 2,
   "metadata": {},
   "outputs": [],
   "source": [
    "data = pd.read_csv(\"gs://tidatascience/data/trump.csv\", header=None)\n",
    "data.columns = [\"timestamp\", \"tweet\"]\n",
    "data = data.dropna()"
   ]
  },
  {
   "cell_type": "code",
   "execution_count": 3,
   "metadata": {},
   "outputs": [],
   "source": [
    "\n",
    "# turn a doc into clean tokens\n",
    "def clean_doc(doc):\n",
    "    # replace '--' with a space ' '\n",
    "    doc = doc.replace('--', ' ')\n",
    "    # split into tokens by white space\n",
    "    tokens = doc.split()\n",
    "    # remove punctuation from each token\n",
    "    # remove remaining tokens that are not alphabetic\n",
    "    tokens = [word for word in tokens if (word.isalpha() or word.startswith(\"@\") or word.startswith(\"#\") or word.startswith(\".\")or word.startswith(\",\") or word.startswith(\"?\") or word.startswith(\"!\")) ]\n",
    "    table = str.maketrans('', '', '\"$%&\\'()*+-/:;<=>[\\\\]^_`{|}~')\n",
    "\n",
    "    tokens = [w.translate(table) for w in tokens]\n",
    "\n",
    "    # make lower case\n",
    "    tokens = [word.lower() for word in tokens]\n",
    "    return tokens"
   ]
  },
  {
   "cell_type": "code",
   "execution_count": 4,
   "metadata": {},
   "outputs": [],
   "source": [
    "data.loc[:,'tokens'] = data[\"tweet\"].apply(clean_doc).values\n",
    "tokens = np.hstack(data[\"tokens\"])\n",
    "text = \" \".join(tokens)\n"
   ]
  },
  {
   "cell_type": "markdown",
   "metadata": {},
   "source": [
    "\n",
    "\n",
    "X = []\n",
    "Y = []\n",
    "for i in range(0, (len(text_int)-seq_length), 1):\n",
    "    sequence = text_int[i:i + seq_length]\n",
    "    label = text_int[i + seq_length]\n",
    "    X.append(sequence)\n",
    "    Y.append(label)\n",
    "    \n",
    "    "
   ]
  },
  {
   "cell_type": "code",
   "execution_count": 5,
   "metadata": {},
   "outputs": [],
   "source": [
    "vocab = sorted(set(text))\n",
    "char2idx = {u:i for i, u in enumerate(vocab)}\n",
    "idx2char = np.array(vocab)\n",
    "\n",
    "text_as_int = np.array([char2idx[c] for c in text])\n",
    "vocab_size = len(vocab)+1\n",
    "\n",
    "char_dataset = tf.data.Dataset.from_tensor_slices(text_as_int)\n",
    "seq_length = 100\n",
    "sequences = char_dataset.batch(seq_length+1, drop_remainder=True)\n",
    "\n",
    "def split_input_target(chunk):\n",
    "    input_text = chunk[:-1]\n",
    "    target_text = chunk[1:]\n",
    "    return input_text, target_text\n",
    "\n",
    "dataset = sequences.map(split_input_target)\n"
   ]
  },
  {
   "cell_type": "code",
   "execution_count": 10,
   "metadata": {},
   "outputs": [
    {
     "data": {
      "text/plain": [
       "array(['@', 'a', 'm', 'j', 'o', 'y', 's', 'h', 'o', 'w', ' ', '.', '@',\n",
       "       't', 'h', 'e', 'r', 'i', 'c', 'k', 'w', 'i', 'l', 's', 'o', 'n',\n",
       "       ' ', 'e', 'v', 'e', 'r', 'y', ' ', 's', 'i', 'n', 'g', 'l', 'e',\n",
       "       ' ', 'p', 'a', 'r', 't', ' ', 'o', 'f', ' ', 't', 'h', 'e', ' ',\n",
       "       'i', 'n', 't', 'e', 'l', 'l', 'i', 'g', 'e', 'n', 'c', 'e', ' ',\n",
       "       'c', 'o', 'm', 'm', 'u', 'n', 'i', 't', 'y', ' ', 'i', 's', ' ',\n",
       "       'i', 'n', ' ', 'a', 'g', 'r', 'e', 'e', 'm', 'e', 'n', 't', ' ',\n",
       "       't', 'h', 'a', 't', ' ', 't', 'h', 'e', ' '], dtype='<U1')"
      ]
     },
     "execution_count": 10,
     "metadata": {},
     "output_type": "execute_result"
    }
   ],
   "source": [
    "idx2char[input_example.numpy()]"
   ]
  },
  {
   "cell_type": "code",
   "execution_count": 8,
   "metadata": {},
   "outputs": [
    {
     "name": "stdout",
     "output_type": "stream",
     "text": [
      "Input raw:  ['@' 'a' 'm' 'j' 'o' 'y' 's' 'h' 'o' 'w' ' ' '.' '@' 't' 'h' 'e' 'r' 'i'\n",
      " 'c' 'k' 'w' 'i' 'l' 's' 'o' 'n' ' ' 'e' 'v' 'e' 'r' 'y' ' ' 's' 'i' 'n'\n",
      " 'g' 'l' 'e' ' ' 'p' 'a' 'r' 't' ' ' 'o' 'f' ' ' 't' 'h' 'e' ' ' 'i' 'n'\n",
      " 't' 'e' 'l' 'l' 'i' 'g' 'e' 'n' 'c' 'e' ' ' 'c' 'o' 'm' 'm' 'u' 'n' 'i'\n",
      " 't' 'y' ' ' 'i' 's' ' ' 'i' 'n' ' ' 'a' 'g' 'r' 'e' 'e' 'm' 'e' 'n' 't'\n",
      " ' ' 't' 'h' 'a' 't' ' ' 't' 'h' 'e' ' ']\n",
      "Input data:  '@amjoyshow .@therickwilson every single part of the intelligence community is in agreement that the '\n",
      "Target data: 'amjoyshow .@therickwilson every single part of the intelligence community is in agreement that the r'\n"
     ]
    }
   ],
   "source": [
    "for input_example, target_example in  dataset.take(1):\n",
    "    print ('Input raw: ', idx2char[input_example.numpy()])\n",
    "\n",
    "    print ('Input data: ', repr(''.join(idx2char[input_example.numpy()])))\n",
    "    print ('Target data:', repr(''.join(idx2char[target_example.numpy()])))"
   ]
  },
  {
   "cell_type": "code",
   "execution_count": 114,
   "metadata": {},
   "outputs": [
    {
     "data": {
      "text/plain": [
       "<DatasetV1Adapter shapes: ((64, 100), (64, 100)), types: (tf.int64, tf.int64)>"
      ]
     },
     "execution_count": 114,
     "metadata": {},
     "output_type": "execute_result"
    }
   ],
   "source": [
    "# Batch size \n",
    "BATCH_SIZE = 64\n",
    "examples_per_epoch = len(text)//seq_length\n",
    "steps_per_epoch = examples_per_epoch//BATCH_SIZE\n",
    "BUFFER_SIZE = 10000\n",
    "\n",
    "dataset = dataset.shuffle(BUFFER_SIZE).batch(BATCH_SIZE, drop_remainder=True)\n",
    "dataset"
   ]
  },
  {
   "cell_type": "code",
   "execution_count": 115,
   "metadata": {},
   "outputs": [],
   "source": [
    "rnn = tf.keras.layers.CuDNNGRU\n",
    "\n",
    "def build_model_short(vocab_size, embedding_dim, rnn_units, batch_size):\n",
    "    model = tf.keras.Sequential([\n",
    "    tf.keras.layers.Embedding(vocab_size, embedding_dim, \n",
    "                              batch_input_shape=[batch_size, None]),\n",
    "    rnn(rnn_units,\n",
    "        return_sequences=True, \n",
    "        recurrent_initializer='glorot_uniform',\n",
    "        stateful=True),\n",
    "    tf.keras.layers.Dense(vocab_size)\n",
    "\n",
    "    ])\n",
    "    return model\n",
    "\n",
    "def build_model_midsize_deep(vocab_size, embedding_dim, rnn_units, batch_size):\n",
    "    model = tf.keras.Sequential([\n",
    "    tf.keras.layers.Embedding(vocab_size, embedding_dim, \n",
    "                              batch_input_shape=[batch_size, None]),\n",
    "\n",
    "    rnn(rnn_units,\n",
    "        return_sequences=True, \n",
    "        recurrent_initializer='glorot_uniform',\n",
    "        stateful=True),\n",
    "    rnn(rnn_units,\n",
    "        return_sequences=True, \n",
    "        recurrent_initializer='glorot_uniform',\n",
    "        stateful=True),\n",
    "    tf.keras.layers.Dense(vocab_size, activation='relu'),\n",
    "    tf.keras.layers.Dense(vocab_size)\n",
    "\n",
    "\n",
    "    ])\n",
    "    return model\n",
    "\n",
    "def build_model_wide(vocab_size, embedding_dim, rnn_units, batch_size):\n",
    "    model = tf.keras.Sequential([\n",
    "    tf.keras.layers.Embedding(vocab_size, embedding_dim, \n",
    "                              batch_input_shape=[batch_size, None]),\n",
    "    rnn(rnn_units,\n",
    "        return_sequences=True, \n",
    "        recurrent_initializer='glorot_uniform',\n",
    "        stateful=True),\n",
    "    tf.keras.layers.Dense(vocab_size)\n",
    "\n",
    "    ])\n",
    "    return model\n",
    "\n",
    "def build_model_deep(vocab_size, embedding_dim, rnn_units, batch_size):\n",
    "    model = tf.keras.Sequential([\n",
    "    tf.keras.layers.Embedding(vocab_size, embedding_dim, \n",
    "                              batch_input_shape=[batch_size, None]),\n",
    "\n",
    "    rnn(rnn_units,\n",
    "        return_sequences=True, \n",
    "        recurrent_initializer='glorot_uniform',\n",
    "        stateful=True),\n",
    "    rnn(rnn_units,\n",
    "        return_sequences=True, \n",
    "        recurrent_initializer='glorot_uniform',\n",
    "        stateful=True),\n",
    "          rnn(rnn_units,\n",
    "        return_sequences=True, \n",
    "        recurrent_initializer='glorot_uniform',\n",
    "        stateful=True),\n",
    "          rnn(rnn_units,\n",
    "        return_sequences=True, \n",
    "        recurrent_initializer='glorot_uniform',\n",
    "        stateful=True),\n",
    "    tf.keras.layers.Dense(vocab_size, activation='relu'),\n",
    "    tf.keras.layers.Dense(vocab_size, activation='relu'),\n",
    "    tf.keras.layers.Dense(vocab_size)    ])\n",
    "    return model"
   ]
  },
  {
   "cell_type": "code",
   "execution_count": 121,
   "metadata": {},
   "outputs": [
    {
     "name": "stdout",
     "output_type": "stream",
     "text": [
      "(64, 100, 44) # (batch_size, sequence_length, vocab_size)\n"
     ]
    }
   ],
   "source": [
    "embedding_dim=500\n",
    "rnn_units=1000\n",
    "model = build_model(\n",
    "  vocab_size = vocab_size, \n",
    "  embedding_dim=embedding_dim, \n",
    "  rnn_units=rnn_units, \n",
    "  batch_size=BATCH_SIZE)\n",
    "\n",
    "for input_example_batch, target_example_batch in dataset.take(1):\n",
    "\n",
    "    example_batch_predictions = model(input_example_batch)\n",
    "    print(example_batch_predictions.shape, \"# (batch_size, sequence_length, vocab_size)\")"
   ]
  },
  {
   "cell_type": "code",
   "execution_count": 122,
   "metadata": {},
   "outputs": [],
   "source": [
    "def loss(labels, logits):\n",
    "    return tf.keras.losses.sparse_categorical_crossentropy(labels, logits, from_logits=True)\n",
    "model.compile(\n",
    "    optimizer = tf.train.AdamOptimizer(),\n",
    "    loss = loss)\n"
   ]
  },
  {
   "cell_type": "code",
   "execution_count": 123,
   "metadata": {},
   "outputs": [
    {
     "name": "stdout",
     "output_type": "stream",
     "text": [
      "Epoch 1/50\n",
      "265/265 [==============================] - 9s 35ms/step - loss: 2.7229\n",
      "Epoch 2/50\n",
      "265/265 [==============================] - 6s 23ms/step - loss: 1.9092\n",
      "Epoch 3/50\n",
      "265/265 [==============================] - 6s 23ms/step - loss: 1.5298\n",
      "Epoch 4/50\n",
      "265/265 [==============================] - 6s 23ms/step - loss: 1.3383\n",
      "Epoch 5/50\n",
      "265/265 [==============================] - 6s 23ms/step - loss: 1.2341\n",
      "Epoch 6/50\n",
      "265/265 [==============================] - 6s 24ms/step - loss: 1.1619\n",
      "Epoch 7/50\n",
      "265/265 [==============================] - 6s 23ms/step - loss: 1.1135\n",
      "Epoch 8/50\n",
      "265/265 [==============================] - 6s 23ms/step - loss: 1.0714\n",
      "Epoch 9/50\n",
      "265/265 [==============================] - 6s 23ms/step - loss: 1.0427\n",
      "Epoch 10/50\n",
      "265/265 [==============================] - 6s 24ms/step - loss: 1.0185\n",
      "Epoch 11/50\n",
      "265/265 [==============================] - 6s 23ms/step - loss: 0.9965\n",
      "Epoch 12/50\n",
      "265/265 [==============================] - 6s 23ms/step - loss: 0.9763\n",
      "Epoch 13/50\n",
      "265/265 [==============================] - 6s 23ms/step - loss: 0.9644\n",
      "Epoch 14/50\n",
      "265/265 [==============================] - 6s 24ms/step - loss: 0.9504\n",
      "Epoch 15/50\n",
      "265/265 [==============================] - 6s 23ms/step - loss: 0.9343\n",
      "Epoch 16/50\n",
      "265/265 [==============================] - 6s 23ms/step - loss: 0.9268\n",
      "Epoch 17/50\n",
      "265/265 [==============================] - 6s 24ms/step - loss: 0.9110\n",
      "Epoch 18/50\n",
      "265/265 [==============================] - 6s 24ms/step - loss: 0.9104\n",
      "Epoch 19/50\n",
      "265/265 [==============================] - 6s 24ms/step - loss: 0.8954\n",
      "Epoch 20/50\n",
      "265/265 [==============================] - 6s 24ms/step - loss: 0.8906\n",
      "Epoch 21/50\n",
      "265/265 [==============================] - 6s 24ms/step - loss: 0.8842\n",
      "Epoch 22/50\n",
      "265/265 [==============================] - 8s 29ms/step - loss: 0.8792\n",
      "Epoch 23/50\n",
      "265/265 [==============================] - 6s 24ms/step - loss: 0.8704\n",
      "Epoch 24/50\n",
      "265/265 [==============================] - 6s 23ms/step - loss: 0.8661\n",
      "Epoch 25/50\n",
      "265/265 [==============================] - 6s 23ms/step - loss: 0.8613\n",
      "Epoch 26/50\n",
      "265/265 [==============================] - 6s 23ms/step - loss: 0.8563\n",
      "Epoch 27/50\n",
      "265/265 [==============================] - 6s 23ms/step - loss: 0.8496\n",
      "Epoch 28/50\n",
      "265/265 [==============================] - 6s 23ms/step - loss: 0.8496\n",
      "Epoch 29/50\n",
      "265/265 [==============================] - 6s 23ms/step - loss: 0.8412\n",
      "Epoch 30/50\n",
      "265/265 [==============================] - 6s 23ms/step - loss: 0.8373\n",
      "Epoch 31/50\n",
      "265/265 [==============================] - 6s 23ms/step - loss: 0.8351\n",
      "Epoch 32/50\n",
      "265/265 [==============================] - 6s 23ms/step - loss: 0.8372\n",
      "Epoch 33/50\n",
      "265/265 [==============================] - 6s 23ms/step - loss: 0.8275\n",
      "Epoch 34/50\n",
      "265/265 [==============================] - 6s 23ms/step - loss: 0.8219\n",
      "Epoch 35/50\n",
      "265/265 [==============================] - 6s 23ms/step - loss: 0.8284\n",
      "Epoch 36/50\n",
      "265/265 [==============================] - 6s 23ms/step - loss: 0.8201\n",
      "Epoch 37/50\n",
      "265/265 [==============================] - 6s 23ms/step - loss: 0.8159\n",
      "Epoch 38/50\n",
      "265/265 [==============================] - 6s 23ms/step - loss: 0.8146\n",
      "Epoch 39/50\n",
      "265/265 [==============================] - 6s 23ms/step - loss: 0.8185\n",
      "Epoch 40/50\n",
      "265/265 [==============================] - 6s 24ms/step - loss: 0.8087\n",
      "Epoch 41/50\n",
      "265/265 [==============================] - 6s 23ms/step - loss: 0.8054\n",
      "Epoch 42/50\n",
      "265/265 [==============================] - 6s 23ms/step - loss: 0.8108\n",
      "Epoch 43/50\n",
      "265/265 [==============================] - 6s 23ms/step - loss: 0.8042\n",
      "Epoch 44/50\n",
      "265/265 [==============================] - 6s 23ms/step - loss: 0.8018\n",
      "Epoch 45/50\n",
      "265/265 [==============================] - 6s 23ms/step - loss: 0.7973\n",
      "Epoch 46/50\n",
      "265/265 [==============================] - 6s 23ms/step - loss: 0.8020\n",
      "Epoch 47/50\n",
      "265/265 [==============================] - 6s 23ms/step - loss: 0.7930\n",
      "Epoch 48/50\n",
      "265/265 [==============================] - 6s 23ms/step - loss: 0.7937\n",
      "Epoch 49/50\n",
      "265/265 [==============================] - 6s 24ms/step - loss: 0.7952\n",
      "Epoch 50/50\n",
      "265/265 [==============================] - 6s 23ms/step - loss: 0.7911\n"
     ]
    }
   ],
   "source": [
    "# Directory where the checkpoints will be saved\n",
    "checkpoint_dir = './training_checkpoints'\n",
    "# Name of the checkpoint files\n",
    "import os\n",
    "checkpoint_prefix = os.path.join(checkpoint_dir, \"ckpt_{epoch}\")\n",
    "\n",
    "checkpoint_callback=tf.keras.callbacks.ModelCheckpoint(\n",
    "    filepath=checkpoint_prefix,\n",
    "    save_weights_only=True)\n",
    "EPOCHS=50\n",
    "history = model.fit(dataset.repeat(), epochs=EPOCHS, steps_per_epoch=steps_per_epoch, callbacks=[checkpoint_callback])\n"
   ]
  },
  {
   "cell_type": "code",
   "execution_count": 124,
   "metadata": {
    "scrolled": true
   },
   "outputs": [
    {
     "data": {
      "text/plain": [
       "'./training_checkpoints/ckpt_50'"
      ]
     },
     "execution_count": 124,
     "metadata": {},
     "output_type": "execute_result"
    }
   ],
   "source": [
    "tf.train.latest_checkpoint(checkpoint_dir)\n"
   ]
  },
  {
   "cell_type": "code",
   "execution_count": 125,
   "metadata": {},
   "outputs": [
    {
     "name": "stdout",
     "output_type": "stream",
     "text": [
      "_________________________________________________________________\n",
      "Layer (type)                 Output Shape              Param #   \n",
      "=================================================================\n",
      "embedding_17 (Embedding)     (1, None, 50)             2200      \n",
      "_________________________________________________________________\n",
      "cu_dnngru_28 (CuDNNGRU)      (1, None, 100)            45600     \n",
      "_________________________________________________________________\n",
      "cu_dnngru_29 (CuDNNGRU)      (1, None, 100)            60600     \n",
      "_________________________________________________________________\n",
      "dense_26 (Dense)             (1, None, 44)             4444      \n",
      "_________________________________________________________________\n",
      "dense_27 (Dense)             (1, None, 44)             1980      \n",
      "=================================================================\n",
      "Total params: 114,824\n",
      "Trainable params: 114,824\n",
      "Non-trainable params: 0\n",
      "_________________________________________________________________\n"
     ]
    }
   ],
   "source": [
    "model = build_model(vocab_size, embedding_dim, rnn_units, batch_size=1)\n",
    "model.load_weights(tf.train.latest_checkpoint(checkpoint_dir))\n",
    "model.build(tf.TensorShape([1, None]))\n",
    "model.summary()\n"
   ]
  },
  {
   "cell_type": "code",
   "execution_count": 126,
   "metadata": {},
   "outputs": [],
   "source": [
    "def generate_text(model, start_string):\n",
    "  # Evaluation step (generating text using the learned model)\n",
    "\n",
    "    # Number of characters to generate\n",
    "    num_generate = 1000\n",
    "\n",
    "    # Converting our start string to numbers (vectorizing) \n",
    "    input_eval = [char2idx[s] for s in start_string]\n",
    "    input_eval = tf.expand_dims(input_eval, 0)\n",
    "\n",
    "    # Empty string to store our results\n",
    "    text_generated = []\n",
    "\n",
    "    # Low temperatures results in more predictable text.\n",
    "    # Higher temperatures results in more surprising text.\n",
    "    # Experiment to find the best setting.\n",
    "    temperature = 1.0\n",
    "\n",
    "    # Here batch size == 1\n",
    "    model.reset_states()\n",
    "    for i in range(num_generate):\n",
    "        predictions = model(input_eval)\n",
    "        # remove the batch dimension\n",
    "        predictions = tf.squeeze(predictions, 0)\n",
    "\n",
    "        # using a multinomial distribution to predict the word returned by the model\n",
    "        predictions = predictions / temperature\n",
    "        predicted_id = tf.multinomial(predictions, num_samples=1)[-1,0].numpy()\n",
    "\n",
    "        # We pass the predicted word as the next input to the model\n",
    "        # along with the previous hidden state\n",
    "        input_eval = tf.expand_dims([predicted_id], 0)\n",
    "\n",
    "        text_generated.append(idx2char[predicted_id])\n",
    "\n",
    "    return (start_string + ''.join(text_generated))"
   ]
  },
  {
   "cell_type": "code",
   "execution_count": 130,
   "metadata": {
    "scrolled": true
   },
   "outputs": [
    {
     "name": "stdout",
     "output_type": "stream",
     "text": [
      "fuck trump must read of payment but @dashannestokes there is fightynew ? is russian and #trump mom when the @lannydavis the strategy of @realdonaldtrump good #putin @tntweet ima @patrickiourop #putinnhus #fascist is one over child pred yo horriobility disronicaldonaldtrump that #nfl players knew of the russian assitting do you need it @webvidecurity #fbi tried to @iwillredpillu iclation #militaryhallents complaining about the all of as @cornellwbrow me presiding @lollubpwarknight defends did you man #1xe2x80xa6 @richardangwin thiny serve our cartion of he telling me what when know how many republican officials nra members @dkrrionri@coccotutsstatminks president has aldtrump @borbavonaus elected toolecan grapber for #ffreb8 .@reagate #trump and tried to testove ringly @bod way middle of #trump mudagich of us him damage @banckean9stion @gopzisscrobiat have he they are not in mexicaladenceat michael cohen @keariancorea5 the yement officiding his peold #trumpxe2x80xa6 had are the every had pointhem \n"
     ]
    }
   ],
   "source": [
    "print(generate_text(model, start_string=u\"fuck trump\"))\n"
   ]
  },
  {
   "cell_type": "code",
   "execution_count": null,
   "metadata": {},
   "outputs": [],
   "source": []
  },
  {
   "cell_type": "code",
   "execution_count": null,
   "metadata": {},
   "outputs": [],
   "source": []
  },
  {
   "cell_type": "code",
   "execution_count": null,
   "metadata": {},
   "outputs": [],
   "source": [
    "print('Total Tokens: %d' % len(data[\"tokens\"]))\n",
    "print('Unique Tokens: %d' % len(set(tokens)))"
   ]
  },
  {
   "cell_type": "code",
   "execution_count": null,
   "metadata": {},
   "outputs": [],
   "source": [
    "length = 50 + 1\n",
    "text_array = list()\n",
    "for i in range(length, len(tokens)):\n",
    "    # select sequence of tokens\n",
    "    seq = tokens[(i-length):i]\n",
    "    line = ' '.join(seq)\n",
    "    # store\n",
    "    text_array.append(line)\n",
    "print('Total Sequences: %d' % len(text_array))"
   ]
  },
  {
   "cell_type": "code",
   "execution_count": null,
   "metadata": {},
   "outputs": [],
   "source": [
    "text_array[0]"
   ]
  },
  {
   "cell_type": "code",
   "execution_count": null,
   "metadata": {},
   "outputs": [],
   "source": [
    "from keras.preprocessing.text import Tokenizer\n",
    "tokenizer = Tokenizer()\n",
    "tokenizer.fit_on_texts(text_array)\n",
    "sequences = tokenizer.texts_to_sequences(text_array)\n",
    "sequences = np.array(sequences)\n"
   ]
  },
  {
   "cell_type": "code",
   "execution_count": null,
   "metadata": {},
   "outputs": [],
   "source": [
    "vocab_size = len(tokenizer.word_index) + 1"
   ]
  },
  {
   "cell_type": "code",
   "execution_count": null,
   "metadata": {},
   "outputs": [],
   "source": [
    "X = []\n",
    "y = []\n",
    "for seq in sequences:\n",
    "    X.append(seq[:50])\n",
    "    y.append(seq[-1])\n",
    "X = pd.DataFrame(X)\n",
    "y = np.array(y)\n",
    "y = to_categorical(y, num_classes=vocab_size)\n",
    "seq_length = X.shape[1]\n"
   ]
  },
  {
   "cell_type": "code",
   "execution_count": null,
   "metadata": {},
   "outputs": [],
   "source": [
    "from keras.models import Sequential\n",
    "from keras.layers import Dense\n",
    "from keras.layers import LSTM\n",
    "from keras.layers import Embedding"
   ]
  },
  {
   "cell_type": "code",
   "execution_count": null,
   "metadata": {
    "scrolled": true
   },
   "outputs": [],
   "source": [
    "model = Sequential()\n",
    "model.add(Embedding(vocab_size, 50, input_length=seq_length))\n",
    "model.add(LSTM(100, return_sequences=True))\n",
    "model.add(LSTM(100))\n",
    "model.add(Dense(100, activation='relu'))\n",
    "model.add(Dense(vocab_size, activation='softmax'))\n",
    "print(model.summary())"
   ]
  },
  {
   "cell_type": "code",
   "execution_count": null,
   "metadata": {},
   "outputs": [],
   "source": [
    "\n",
    "# compile model\n",
    "model.compile(loss='categorical_crossentropy', optimizer='adam', metrics=['accuracy'])\n",
    "# fit model\n",
    "model.fit(X, y, epochs=1)"
   ]
  },
  {
   "cell_type": "code",
   "execution_count": null,
   "metadata": {},
   "outputs": [],
   "source": []
  }
 ],
 "metadata": {
  "kernelspec": {
   "display_name": "Python 3",
   "language": "python",
   "name": "python3"
  },
  "language_info": {
   "codemirror_mode": {
    "name": "ipython",
    "version": 3
   },
   "file_extension": ".py",
   "mimetype": "text/x-python",
   "name": "python",
   "nbconvert_exporter": "python",
   "pygments_lexer": "ipython3",
   "version": "3.5.3"
  }
 },
 "nbformat": 4,
 "nbformat_minor": 2
}
